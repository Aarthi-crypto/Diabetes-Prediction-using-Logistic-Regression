Code :
from pandas import read_csv 
import numpy as np 
import pandas as pd 
import matplotlib.pyplot as plt 
from sklearn.model_selection import train_test_split 
from sklearn.preprocessing import StandardScaler 
from sklearn.linear_model import LogisticRegression 
from sklearn.metrics import accuracy_score, confusion_matrix, 
classification_report 
df=pd.read_csv(r'C:\Users\Aarth\Downloads\diabetes.csv') 

X = df.drop(columns=['Outcome']) 
y = df['Outcome'] 

X_train, X_test, y_train, y_test = train_test_split(X, y, test_size=0.2, 
random_state=42) 

scaler = StandardScaler() 
X_train = scaler.fit_transform(X_train) 
X_test = scaler.transform(X_test) 

model = LogisticRegression() 
model.fit(X_train, y_train) 

y_pred = model.predict(X_test) 

accuracy = accuracy_score(y_test, y_pred) 
conf_matrix = confusion_matrix(y_test, y_pred) 
class_report = classification_report(y_test, y_pred) 

print(f"Accuracy: {accuracy:.4f}") 
print("Confusion Matrix:") 
print(conf_matrix) 
print("Classification Report:") 
print(class_report) 
 
plt.figure(figsize=(6,4)) 
plt.imshow(conf_matrix,cmap='Blues', interpolation='nearest') 
plt.colorbar() 
plt.xlabel('Predicted Labels') 
plt.ylabel('True Labels') 
plt.title('Confusion Matrix') 
plt.show()
